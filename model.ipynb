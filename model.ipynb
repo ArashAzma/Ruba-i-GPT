{
 "cells": [
  {
   "cell_type": "code",
   "execution_count": 15,
   "metadata": {},
   "outputs": [],
   "source": [
    "import torch\n",
    "import torch.nn as nn\n",
    "import torch.nn.functional as F\n",
    "\n",
    "with open('poems_preprocessed.txt', 'r', encoding='utf-8') as f:\n",
    "    data = f.read()"
   ]
  },
  {
   "cell_type": "code",
   "execution_count": 16,
   "metadata": {},
   "outputs": [],
   "source": [
    "chars = sorted(list(set(data)))\n",
    "\n",
    "ctoi = { ch:i for i,ch in enumerate(chars) }\n",
    "itoc = { i:ch for i,ch in enumerate(chars) }"
   ]
  },
  {
   "cell_type": "code",
   "execution_count": 17,
   "metadata": {},
   "outputs": [],
   "source": [
    "def get_stats(ids):\n",
    "    counts = {}\n",
    "    for pair in zip(ids, ids[1:]):\n",
    "        counts[pair] = counts.get(pair, 0) + 1\n",
    "    return counts"
   ]
  },
  {
   "cell_type": "code",
   "execution_count": 18,
   "metadata": {},
   "outputs": [
    {
     "name": "stdout",
     "output_type": "stream",
     "text": [
      "Most Common pairs: [(43850, ('ه', ' ')), (41833, ('\\t', '\\t')), (38635, (' ', 'ب')), (36578, ('ر', ' ')), (35489, ('ن', ' ')), (32994, ('ی', ' ')), (28843, ('و', ' ')), (26202, (' ', 'د')), (24768, ('ا', 'ن')), (24500, (' ', 'م')), (23154, (' ', 'ک')), (23121, (' ', 'ا')), (20798, ('د', ' ')), (20288, ('م', ' ')), (19534, ('ز', ' '))]\n"
     ]
    }
   ],
   "source": [
    "most_common = sorted([(v,k) for k, v in get_stats(data).items()], reverse=True)[:15]\n",
    "\n",
    "print(f'Most Common pairs: {most_common}')"
   ]
  },
  {
   "cell_type": "code",
   "execution_count": 19,
   "metadata": {},
   "outputs": [],
   "source": [
    "vocab_size = len(ctoi.items()) + 1\n",
    "\n",
    "for index, pair in most_common:\n",
    "    pair_cat = pair[0] + pair[1]\n",
    "    ctoi[pair_cat] = vocab_size\n",
    "    itoc[vocab_size] = pair_cat\n",
    "    vocab_size += 1"
   ]
  },
  {
   "cell_type": "code",
   "execution_count": 20,
   "metadata": {},
   "outputs": [
    {
     "name": "stdout",
     "output_type": "stream",
     "text": [
      "Charactor to Index Dict: \n",
      "[('ز ', 85), ('م ', 84), ('د ', 83), (' ا', 82), (' ک', 81), (' م', 80), ('ان', 79), (' د', 78), ('و ', 77), ('ی ', 76), ('ن ', 75), ('ر ', 74), (' ب', 73), ('\\t\\t', 72), ('ه ', 71), ('‘', 69), ('\\u200d', 68), ('\\u200c', 67), ('ی', 66), ('ں', 65), ('گ', 64), ('ک', 63), ('ژ', 62), ('چ', 61), ('پ', 60), ('ٻ', 59), ('ٹ', 58), ('ٰ', 57), ('ٔ', 56), ('ٓ', 55), ('ْ', 54), ('ّ', 53), ('ِ', 52), ('ُ', 51), ('َ', 50), ('ٍ', 49), ('ٌ', 48), ('ً', 47), ('و', 46), ('ه', 45), ('ن', 44), ('م', 43), ('ل', 42), ('ق', 41), ('ف', 40), ('غ', 39), ('ع', 38), ('ظ', 37), ('ط', 36), ('ض', 35), ('ص', 34), ('ش', 33), ('س', 32), ('ز', 31), ('ر', 30), ('ذ', 29), ('د', 28), ('خ', 27), ('ح', 26), ('ج', 25), ('ث', 24), ('ت', 23), ('ة', 22), ('ب', 21), ('ا', 20), ('ئ', 19), ('ؤ', 18), ('أ', 17), ('آ', 16), ('؟', 15), ('؛', 14), ('،', 13), ('»', 12), ('«', 11), ('\\x7f', 10), (']', 9), ('[', 8), ('-', 7), ('*', 6), (')', 5), ('(', 4), ('!', 3), (' ', 2), ('\\n', 1), ('\\t', 0)]\n"
     ]
    }
   ],
   "source": [
    "print('Charactor to Index Dict: ')\n",
    "print(sorted(list(ctoi.items()), key=lambda x: x[1], reverse=True))"
   ]
  },
  {
   "cell_type": "code",
   "execution_count": 21,
   "metadata": {},
   "outputs": [],
   "source": [
    "def encode(s):\n",
    "    encoded = []\n",
    "    i = 0\n",
    "    while i < len(s):\n",
    "        if i + 1 < len(s) and s[i:i+2] in ctoi:\n",
    "            encoded.append(ctoi[s[i:i+2]])\n",
    "            i += 2\n",
    "        elif s[i] in ctoi:\n",
    "            encoded.append(ctoi[s[i]])\n",
    "            i += 1\n",
    "        else:\n",
    "            raise ValueError(f\"Character {s[i]} not in ctoi dictionary.\")\n",
    "    return encoded\n",
    "\n",
    "decode = lambda l    : ''.join([itoc[i] for i in l])"
   ]
  },
  {
   "cell_type": "code",
   "execution_count": 22,
   "metadata": {},
   "outputs": [
    {
     "name": "stdout",
     "output_type": "stream",
     "text": [
      "Original text: سلام آرش خوبی؟\n",
      "Encoded text: [32, 42, 20, 84, 16, 30, 33, 2, 27, 46, 21, 66, 15]\n",
      "Decoded text: سلام آرش خوبی؟\n"
     ]
    }
   ],
   "source": [
    "text = 'سلام آرش خوبی؟'\n",
    "encoded = encode(text)\n",
    "decoded = decode(encoded)\n",
    "\n",
    "print(\"Original text:\", text)\n",
    "print(\"Encoded text:\", encoded)\n",
    "print(\"Decoded text:\", decoded)"
   ]
  },
  {
   "cell_type": "code",
   "execution_count": 23,
   "metadata": {},
   "outputs": [],
   "source": [
    "data = torch.tensor(encode(data), dtype=torch.long)"
   ]
  },
  {
   "cell_type": "code",
   "execution_count": 24,
   "metadata": {},
   "outputs": [],
   "source": [
    "n = int(0.9*len(data)) \n",
    "train = data[:n]\n",
    "valid = data[n:]"
   ]
  },
  {
   "cell_type": "code",
   "execution_count": 25,
   "metadata": {},
   "outputs": [],
   "source": [
    "# Hyper parameters\n",
    "\n",
    "batch_size = 128\n",
    "block_size = 256\n",
    "n_emb = 384\n",
    "\n",
    "n_head = 3\n",
    "n_layer = 2\n",
    "\n",
    "eval_iters = 4\n",
    "dropout = 0.2"
   ]
  },
  {
   "cell_type": "code",
   "execution_count": 26,
   "metadata": {},
   "outputs": [],
   "source": [
    "device = torch.device(\"cuda\" if torch.cuda.is_available() else \"cpu\")"
   ]
  },
  {
   "cell_type": "code",
   "execution_count": 27,
   "metadata": {},
   "outputs": [],
   "source": [
    "def get_batch(block_size, batch_size, is_training = True):\n",
    "    data = train if is_training else valid\n",
    "    \n",
    "    n = len(data)\n",
    "    \n",
    "    indices = torch.randint(0, n - block_size, (batch_size,))\n",
    "    \n",
    "    x = [data[i : i+block_size] for i in indices]\n",
    "    y = [data[i+1 : i+block_size+1] for i in indices]\n",
    "    \n",
    "    x, y = torch.stack(x), torch.stack(y)\n",
    "    \n",
    "    x, y = x.to(device), y.to(device)\n",
    "    \n",
    "    return x, y"
   ]
  },
  {
   "cell_type": "code",
   "execution_count": 28,
   "metadata": {},
   "outputs": [],
   "source": [
    "class Head(nn.Module):\n",
    "    def __init__(self, n_emb, block_size, head_size):\n",
    "        super().__init__()\n",
    "        self.key   = nn.Linear(n_emb, head_size, bias=False)\n",
    "        self.query = nn.Linear(n_emb, head_size, bias=False)\n",
    "        self.value = nn.Linear(n_emb, head_size, bias=False)\n",
    "        \n",
    "        self.register_buffer('tril', torch.tril(torch.ones(block_size, block_size)))   #  not to be considered a model parameter\n",
    "        self.dropout = nn.Dropout(dropout)\n",
    "\n",
    "    def forward(self, x):\n",
    "        k = self.key(x)\n",
    "        q = self.query(x)\n",
    "        \n",
    "        weight = q @ k.transpose(-2, -1) * k.shape[-1] ** -0.5\n",
    "        weight = weight.masked_fill(self.tril[:x.shape[-1]][:x.shape[-1]] == 0, float('-inf'))\n",
    "        weight = F.softmax(weight, -1)\n",
    "        weight = self.dropout(weight)\n",
    "\n",
    "        v = self.value(x)\n",
    "        out = weight @ v\n",
    "        \n",
    "        return out"
   ]
  },
  {
   "cell_type": "code",
   "execution_count": 29,
   "metadata": {},
   "outputs": [],
   "source": [
    "class MultiHeadAttention(nn.Module):\n",
    "    def __init__(self, n_emb, block_size, head_size, n_heads):\n",
    "        super().__init__()\n",
    "        self.heads = nn.ModuleList([Head(n_emb, block_size, head_size) for _ in range(n_heads)])\n",
    "        self.linear = nn.Linear(n_emb, n_emb)\n",
    "        self.dropout = nn.Dropout(dropout)\n",
    "\n",
    "        \n",
    "    def forward(self, x):\n",
    "        cat = torch.cat([h(x) for h in self.heads], -1)\n",
    "        out = self.dropout(self.linear(cat))\n",
    "        return out"
   ]
  },
  {
   "cell_type": "code",
   "execution_count": 30,
   "metadata": {},
   "outputs": [],
   "source": [
    "class FeedForward(nn.Module):\n",
    "    def __init__(self, n_emb):\n",
    "        super().__init__()\n",
    "        self.net = nn.Sequential(\n",
    "            nn.Linear(n_emb, n_emb * 4),\n",
    "            nn.ReLU(),\n",
    "            nn.Linear(n_emb * 4, n_emb),\n",
    "            nn.Dropout(dropout)\n",
    "        )\n",
    "        \n",
    "    def forward(self, x):\n",
    "        return self.net(x)"
   ]
  },
  {
   "cell_type": "code",
   "execution_count": 31,
   "metadata": {},
   "outputs": [],
   "source": [
    "class Block(nn.Module):\n",
    "    def __init__(self, n_emb, block_size, n_head):\n",
    "        super().__init__()\n",
    "        self.layer1 = nn.LayerNorm(n_emb)\n",
    "        self.layer2 = nn.LayerNorm(n_emb)\n",
    "        \n",
    "        head_size = n_emb // n_head \n",
    "        self.sa_heads = MultiHeadAttention(n_emb, block_size, head_size, n_head)\n",
    "        self.ffwd = FeedForward(n_emb)\n",
    "        \n",
    "        self.bn1 = nn.BatchNorm1d(block_size)\n",
    "        self.bn2 = nn.BatchNorm1d(block_size)\n",
    "        \n",
    "    def forward(self, x):\n",
    "        x = x + self.sa_heads(self.layer1(x))\n",
    "        x = self.bn1(x)\n",
    "        x = x + self.ffwd(self.layer2(x))\n",
    "        x = self.bn2(x)\n",
    "        \n",
    "        return x"
   ]
  },
  {
   "cell_type": "code",
   "execution_count": 32,
   "metadata": {},
   "outputs": [],
   "source": [
    "class MultiLayerBigram(nn.Module):\n",
    "    def __init__(self, vocab_size, block_size, n_emb, n_layer, n_head):\n",
    "        super().__init__()\n",
    "        \n",
    "        self.out_emb_table = nn.Embedding(vocab_size, n_emb)\n",
    "        self.pos_emb_table = nn.Embedding(block_size, n_emb)\n",
    "        self.blocks = nn.Sequential(*[Block(n_emb, block_size, n_head) for _ in range(n_layer)])\n",
    "        self.ln_f = nn.LayerNorm(n_emb)\n",
    "        self.lm_head = nn.Linear(n_emb, vocab_size)\n",
    "        \n",
    "        self.apply(self._init_weights)\n",
    "        \n",
    "    def _init_weights(self, module):\n",
    "        if isinstance(module, nn.Linear):\n",
    "            torch.nn.init.normal_(module.weight, mean=0.0, std=0.02)\n",
    "            if module.bias is not None:\n",
    "                torch.nn.init.zeros_(module.bias)\n",
    "        elif isinstance(module, nn.Embedding):\n",
    "            torch.nn.init.normal_(module.weight, mean=0.0, std=0.02)\n",
    "        \n",
    "    def forward(self, x, targets=None):\n",
    "        _, T = x.shape\n",
    "        out_emb_table = self.out_emb_table(x)\n",
    "        pos_emb_table = self.pos_emb_table(torch.arange(T, device=device))\n",
    "        \n",
    "        x = out_emb_table + pos_emb_table\n",
    "        x = self.blocks(x)\n",
    "        x = self.ln_f(x)\n",
    "        logits = self.lm_head(x)\n",
    "        \n",
    "        if targets == None:\n",
    "            loss = None\n",
    "        else:\n",
    "            logits = logits.view(-1, vocab_size)\n",
    "            targets = targets.view(-1)\n",
    "        \n",
    "            loss = F.cross_entropy(logits, targets)\n",
    "        return logits, loss\n",
    "    \n",
    "    def generate(self, x, block_size, max_new_tokens):\n",
    "        for _ in range(max_new_tokens):\n",
    "            \n",
    "            xcropped = x[:, -block_size:]\n",
    "            logits, _ = self(xcropped)\n",
    "            logits = logits[:, -1, :] # B C        \n",
    "            probs = F.softmax(logits, 1)\n",
    "            xnext = torch.multinomial(probs, num_samples=1)\n",
    "            \n",
    "            x = torch.cat((x, xnext), dim=1)\n",
    "            \n",
    "        return x"
   ]
  },
  {
   "cell_type": "code",
   "execution_count": 33,
   "metadata": {},
   "outputs": [],
   "source": [
    "@torch.no_grad()\n",
    "def estimate_loss(model, eval_iters, block_size, batch_size):\n",
    "    out = {}\n",
    "    model.eval()\n",
    "    for split in ['train', 'val']:\n",
    "        losses = torch.zeros(eval_iters)\n",
    "        for k in range(eval_iters):\n",
    "            X, Y = get_batch(block_size, batch_size, split=='train')\n",
    "            logits, loss = model(X, Y)\n",
    "            losses[k] = loss.item()\n",
    "        out[split] = losses.mean()\n",
    "    model.train()\n",
    "    return out"
   ]
  },
  {
   "cell_type": "code",
   "execution_count": 34,
   "metadata": {},
   "outputs": [],
   "source": [
    "model = MultiLayerBigram(vocab_size, block_size, n_emb, n_layer, n_head)\n",
    "model.train()\n",
    "model = model.to(device)"
   ]
  },
  {
   "cell_type": "code",
   "execution_count": 40,
   "metadata": {},
   "outputs": [],
   "source": [
    "# model.load_state_dict(torch.load('model03.pth'))"
   ]
  },
  {
   "cell_type": "code",
   "execution_count": null,
   "metadata": {},
   "outputs": [],
   "source": [
    "num_it = 2500\n",
    "lr = 1e-7\n",
    "optimizer = torch.optim.Adam(model.parameters(), lr=lr, weight_decay=1e-8)\n",
    "scheduler = torch.optim.lr_scheduler.StepLR(optimizer, step_size=num_it - num_it / 10, gamma=0.1)"
   ]
  },
  {
   "cell_type": "code",
   "execution_count": null,
   "metadata": {},
   "outputs": [],
   "source": [
    "lossi = []\n",
    "ud = [] \n",
    "for i in range(num_it+1):\n",
    "    if(i % 500 == 0):\n",
    "        losses = estimate_loss(model, eval_iters, block_size, batch_size)\n",
    "        print(f\"step {i}: train loss {losses['train']:.4f}, val loss {losses['val']:.4f}\")\n",
    "        \n",
    "    x_batch, y_batch = get_batch(block_size, batch_size)\n",
    "    \n",
    "    _, loss = model(x_batch, y_batch)\n",
    "    \n",
    "    optimizer.zero_grad(set_to_none=True)\n",
    "    loss.backward()\n",
    "    optimizer.step()\n",
    "    \n",
    "    scheduler.step()\n",
    "    \n",
    "    lossi.append(loss.log10().item())\n",
    "    with torch.no_grad():\n",
    "        ud.append([((lr*p.grad).std() / p.data.std()).log10().item() for p in model.parameters()])"
   ]
  },
  {
   "cell_type": "code",
   "execution_count": 39,
   "metadata": {},
   "outputs": [],
   "source": [
    "xgen = torch.zeros((8, block_size), dtype=torch.long, device=device)\n",
    "\n",
    "model.eval()\n",
    "with torch.no_grad():\n",
    "    generations = model.generate(xgen, block_size, 1000)\n",
    "    out = []\n",
    "    for i in range(generations.shape[0]):\n",
    "        words = generations[i].tolist()\n",
    "        decoded = decode(words)\n",
    "        out.append(decoded)\n",
    "        \n",
    "with open(\"poems_output.txt\", \"w\", encoding=\"utf-8\") as file:\n",
    "    file.write(''.join(out))"
   ]
  },
  {
   "cell_type": "code",
   "execution_count": 111,
   "metadata": {},
   "outputs": [],
   "source": [
    "# model_path = 'model03.pth'\n",
    "# torch.save(model.state_dict(), model_path)"
   ]
  },
  {
   "cell_type": "code",
   "execution_count": null,
   "metadata": {},
   "outputs": [],
   "source": []
  }
 ],
 "metadata": {
  "kernelspec": {
   "display_name": "Python 3",
   "language": "python",
   "name": "python3"
  },
  "language_info": {
   "codemirror_mode": {
    "name": "ipython",
    "version": 3
   },
   "file_extension": ".py",
   "mimetype": "text/x-python",
   "name": "python",
   "nbconvert_exporter": "python",
   "pygments_lexer": "ipython3",
   "version": "3.11.9"
  }
 },
 "nbformat": 4,
 "nbformat_minor": 2
}
