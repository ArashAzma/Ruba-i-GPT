{
 "cells": [
  {
   "cell_type": "code",
   "execution_count": 17,
   "metadata": {},
   "outputs": [],
   "source": [
    "from hazm import Normalizer\n",
    "\n",
    "normalizer = Normalizer(correct_spacing=False, remove_diacritics=True, remove_specials_chars=True, unicodes_replacement=True)\n",
    "\n",
    "\n",
    "with open('poems.txt', 'r', encoding='utf-8') as infile:\n",
    "    lines = infile.readlines()\n",
    "\n",
    "with open('poems_preprocessed.txt', 'w', encoding='utf-8') as outfile:\n",
    "    for line in lines:\n",
    "        delimiter_count = line.count('\\t\\t')\n",
    "        \n",
    "        if delimiter_count == 3 and len(line) < 300:\n",
    "            sentences = line.split('\\t\\t')\n",
    "            \n",
    "            for i in range(0, len(sentences), 4):\n",
    "                chunk = '\\t\\t'.join(sentences[i:i+4])\n",
    "                normalized_chunk = normalizer.normalize(chunk)\n",
    "                outfile.write(chunk)"
   ]
  }
 ],
 "metadata": {
  "kernelspec": {
   "display_name": "Python 3",
   "language": "python",
   "name": "python3"
  },
  "language_info": {
   "codemirror_mode": {
    "name": "ipython",
    "version": 3
   },
   "file_extension": ".py",
   "mimetype": "text/x-python",
   "name": "python",
   "nbconvert_exporter": "python",
   "pygments_lexer": "ipython3",
   "version": "3.11.9"
  }
 },
 "nbformat": 4,
 "nbformat_minor": 2
}
